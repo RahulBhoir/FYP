{
 "cells": [
  {
   "cell_type": "markdown",
   "metadata": {},
   "source": [
    "**Module Imports**"
   ]
  },
  {
   "cell_type": "code",
   "execution_count": 12,
   "metadata": {},
   "outputs": [],
   "source": [
    "# Importing required modules\n",
    "from os import scandir, system, unlink, listdir\n",
    "from PIL import Image\n",
    "from threading import Thread\n",
    "from time import sleep\n",
    "import tensorflow as tf\n",
    "from IPython.display import clear_output"
   ]
  },
  {
   "cell_type": "markdown",
   "metadata": {},
   "source": [
    "**Constants Declaration**"
   ]
  },
  {
   "cell_type": "code",
   "execution_count": 13,
   "metadata": {},
   "outputs": [],
   "source": [
    "# c = Crack\n",
    "# d = Dampness\n",
    "# p = Paint peel off\n",
    "# n = No defect\n",
    "CLASS_FOLDERS = ['c', 'd', 'n', 'p']\n",
    "\n",
    "# Folder paths\n",
    "FOLDER_PREFIX = 'F:\\\\github\\\\Drones_For_Structural_Audit\\\\dataset\\\\internal'\n",
    "INPUT_FOLDER = f'{FOLDER_PREFIX}\\\\input'\n",
    "OUTPUT_FOLDER = f'{FOLDER_PREFIX}\\\\output'\n",
    "TRAIN_FOLDER = f'{FOLDER_PREFIX}\\\\train'\n",
    "TEST_FOLDER = f'{FOLDER_PREFIX}\\\\test'\n",
    "\n",
    "# Output image dimension\n",
    "IMAGE_SIZE = 256\n",
    "\n",
    "# Training proportion\n",
    "TRAIN_SIZE = 0.8"
   ]
  },
  {
   "cell_type": "markdown",
   "metadata": {},
   "source": [
    "**Thread Function**"
   ]
  },
  {
   "cell_type": "code",
   "execution_count": 18,
   "metadata": {},
   "outputs": [],
   "source": [
    "# This is the function that the thread will process\n",
    "# Each thread will process one class as specified in the parameter\n",
    "def process_images(class_):\n",
    "\n",
    "  # Check if the output folder is empty or not\n",
    "  l = len(listdir(f'{OUTPUT_FOLDER}\\\\{class_}'))\n",
    "  if l:\n",
    "    \n",
    "    # Scan the output folder\n",
    "    with scandir(f'{OUTPUT_FOLDER}\\\\{class_}') as folder:\n",
    "    \n",
    "      # Iterate through all files\n",
    "      for i, file in enumerate(folder):\n",
    "        \n",
    "        # Delete the file\n",
    "        unlink(file.path)\n",
    "        \n",
    "        # Print progress\n",
    "        thread_message[class_] = f'Class {class_}\\n' + \\\n",
    "          f'Deleted {(i+1)/l*100:.2f}% files\\n\\n'       \n",
    "\n",
    "  # Count for all subimages of the current class\n",
    "  all_img_cnt = 0\n",
    "\n",
    "  # Scan the class folder\n",
    "  with scandir(f'{INPUT_FOLDER}\\\\{class_}') as folder:\n",
    "\n",
    "    # Set the thread message\n",
    "    thread_message[class_] = f'Class {class_}\\n' + \\\n",
    "      'Calculating the number of images...\\n\\n'\n",
    "\n",
    "    # For all files in the folder\n",
    "    for file in folder:\n",
    "\n",
    "      # Open the image file\n",
    "      img = Image.open(file.path)\n",
    "\n",
    "      # Extract dimensions of the image\n",
    "      w, h = img.width, img.height\n",
    "\n",
    "      # Count all the subimages that will be generated for this class\n",
    "      all_img_cnt += (h - IMAGE_SIZE + 1) * (w - IMAGE_SIZE + 1)\n",
    "    \n",
    "  # Number of digits to name the files with same length numbers (0 padded)\n",
    "  num_digits = len(str(all_img_cnt))\n",
    "\n",
    "  # Counter for naming images\n",
    "  cntr = 0\n",
    "\n",
    "  # Scan the class folder\n",
    "  with scandir(f'{INPUT_FOLDER}\\\\{class_}') as folder:\n",
    "\n",
    "    # For all files in the folder\n",
    "    for file in folder:\n",
    "\n",
    "      # Open the image file\n",
    "      img = Image.open(file.path)\n",
    "\n",
    "      # Extract dimensions of the image\n",
    "      w, h = img.width, img.height\n",
    "\n",
    "      # The count of subimages of the current image\n",
    "      cur_img_cnt = (h - IMAGE_SIZE + 1) * (w - IMAGE_SIZE + 1)\n",
    "\n",
    "      # Counter for current sub image count\n",
    "      cur_cntr = 0\n",
    "\n",
    "      # Iterate through all possible windows of size IMAGE_SIZE * IMAGE_SIZE\n",
    "      for i in range(h - IMAGE_SIZE + 1):\n",
    "        for j in range(w - IMAGE_SIZE + 1):\n",
    "\n",
    "          # Set thread message\n",
    "          thread_message[class_] = f'Class: {class_}\\n' + \\\n",
    "            f'Cur img progress: {cur_cntr}/{cur_img_cnt} ({cur_cntr/cur_img_cnt*100:.2f}%)\\n' + \\\n",
    "            f'All img progress: {cntr}/{all_img_cnt} ({cntr/all_img_cnt*100:.2f}%)\\n'\n",
    "\n",
    "          # Crop the image in the window\n",
    "          cropped_img = img.crop((j, i, j + IMAGE_SIZE, i + IMAGE_SIZE))\n",
    "\n",
    "          # Save the cropped_img in the class subfolder of the OUPUT_FOLDER\n",
    "          cropped_img.save(f'{OUTPUT_FOLDER}\\\\{class_}\\\\{cntr:0{num_digits}}.jpg')\n",
    "\n",
    "          # Incremenet the counters\n",
    "          cntr += 1\n",
    "          cur_cntr += 1\n",
    "  \n",
    "  # Set thread message\n",
    "  thread_message[class_] = f'Class: {class_}\\n' + \\\n",
    "    f'Processing of {all_img_cnt} images done!\\n\\n'\n",
    "\n",
    "  # Sleep for 1 second\n",
    "  sleep(1)\n",
    "\n",
    "  # Signal the main thread that the processing is completed\n",
    "  thread_is_completed[class_] = True"
   ]
  },
  {
   "cell_type": "markdown",
   "metadata": {},
   "source": [
    "**Start of Main Function**"
   ]
  },
  {
   "cell_type": "code",
   "execution_count": 17,
   "metadata": {},
   "outputs": [
    {
     "name": "stdout",
     "output_type": "stream",
     "text": [
      "Class: c\n",
      "Processing of 40500 images done!\n",
      "\n",
      "\n",
      "Class: d\n",
      "Processing of 40500 images done!\n",
      "\n",
      "\n",
      "Class: n\n",
      "Processing of 40500 images done!\n",
      "\n",
      "\n",
      "Class: p\n",
      "Processing of 40500 images done!\n",
      "\n",
      "\n"
     ]
    }
   ],
   "source": [
    "# Flags to track whether the thread is running or is completed\n",
    "thread_is_completed = {c: False for c in CLASS_FOLDERS}\n",
    "\n",
    "# Thread progress messages\n",
    "thread_message = {c: '' for c in CLASS_FOLDERS}\n",
    "\n",
    "# For all class folders\n",
    "for class_ in CLASS_FOLDERS:\n",
    "\n",
    "  # Start the thread for each class \n",
    "  Thread(target=process_images, args=(class_, )).start()\n",
    "\n",
    "# While all the threads have not completed their processing\n",
    "while not all([v for k, v in thread_is_completed.items()]):\n",
    "\n",
    "  # Sleep for 1 second\n",
    "  sleep(1)\n",
    "\n",
    "  # Clear the screen\n",
    "  # system('cls')\n",
    "  clear_output(wait=True)\n",
    "\n",
    "  # For all class threads\n",
    "  for class_ in CLASS_FOLDERS:\n",
    "\n",
    "    # Print the thread messages\n",
    "    print(thread_message[class_])"
   ]
  },
  {
   "cell_type": "markdown",
   "metadata": {},
   "source": [
    "**Dataset Splitting**"
   ]
  },
  {
   "cell_type": "code",
   "execution_count": null,
   "metadata": {},
   "outputs": [],
   "source": []
  }
 ],
 "metadata": {
  "kernelspec": {
   "display_name": "Python 3.7 (tensorflow)",
   "language": "python",
   "name": "tensorflow"
  },
  "language_info": {
   "codemirror_mode": {
    "name": "ipython",
    "version": 3
   },
   "file_extension": ".py",
   "mimetype": "text/x-python",
   "name": "python",
   "nbconvert_exporter": "python",
   "pygments_lexer": "ipython3",
   "version": "3.7.6"
  }
 },
 "nbformat": 4,
 "nbformat_minor": 4
}
